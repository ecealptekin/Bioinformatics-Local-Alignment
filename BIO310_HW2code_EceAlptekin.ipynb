{
  "nbformat": 4,
  "nbformat_minor": 0,
  "metadata": {
    "kernelspec": {
      "display_name": "Python 3",
      "language": "python",
      "name": "python3"
    },
    "language_info": {
      "codemirror_mode": {
        "name": "ipython",
        "version": 3
      },
      "file_extension": ".py",
      "mimetype": "text/x-python",
      "name": "python",
      "nbconvert_exporter": "python",
      "pygments_lexer": "ipython3",
      "version": "3.7.4"
    },
    "colab": {
      "name": "BIO310-HW2code-EceAlptekin.ipynb",
      "provenance": [],
      "include_colab_link": true
    }
  },
  "cells": [
    {
      "cell_type": "markdown",
      "metadata": {
        "id": "view-in-github",
        "colab_type": "text"
      },
      "source": [
        "<a href=\"https://colab.research.google.com/github/ecealptekin/Biology-Local-Alignment-/blob/master/BIO310_HW2code_EceAlptekin.ipynb\" target=\"_parent\"><img src=\"https://colab.research.google.com/assets/colab-badge.svg\" alt=\"Open In Colab\"/></a>"
      ]
    },
    {
      "cell_type": "code",
      "metadata": {
        "id": "WeYWqNpqxwZi",
        "colab_type": "code",
        "colab": {},
        "outputId": "4ab627ec-e548-4bc2-d88b-89bfab06f997"
      },
      "source": [
        "filename = input(\"Enter the input filename: \")\n",
        "mismatch = int(input(\"Enter the mismatch score: \"))\n",
        "gap = int(input(\"Enter the gap penalty score: \"))\n",
        "match = int(input(\"Enter the match score: \"))\n",
        "\n",
        "file = open(filename,'r')"
      ],
      "execution_count": 0,
      "outputs": [
        {
          "output_type": "stream",
          "text": [
            "Enter the input filename: test_input5.txt\n",
            "Enter the mismatch score: -5\n",
            "Enter the gap penalty score: -3\n",
            "Enter the match score: 8\n"
          ],
          "name": "stdout"
        }
      ]
    },
    {
      "cell_type": "code",
      "metadata": {
        "id": "phLvLvW8xwZn",
        "colab_type": "code",
        "colab": {}
      },
      "source": [
        "row = file.readline()\n",
        "column = file.readline()\n",
        "file.close()"
      ],
      "execution_count": 0,
      "outputs": []
    },
    {
      "cell_type": "code",
      "metadata": {
        "id": "wfl_zcVGxwZp",
        "colab_type": "code",
        "colab": {}
      },
      "source": [
        "def creatematrix(sizex, sizey):\n",
        "    return [[0]*sizey for i in range(sizex)]\n",
        "\n",
        "class ScoreParameters:\n",
        "    def __init__(self, gap, match, mismatch):\n",
        "        self.gap = gap\n",
        "        self.match = match\n",
        "        self.mismatch = mismatch"
      ],
      "execution_count": 0,
      "outputs": []
    },
    {
      "cell_type": "markdown",
      "metadata": {
        "id": "FxpQj8dvxwZs",
        "colab_type": "text"
      },
      "source": [
        "def mylist(newstr, a, b, row, column, temp):\n",
        "    \n",
        "    half1 = \"\"\n",
        "    half2 = \"\"\n",
        "    \n",
        "    if newstr == \"1\" and b < len(column):\n",
        "            half1 = row[a]\n",
        "            half2 = column[b]\n",
        "    elif newstr == \"2\":\n",
        "            half1 = \"-\"\n",
        "            half2 = column[b]\n",
        "    elif newstr == \"3\":\n",
        "            half1 = row[a]\n",
        "            half2 = \"-\"\n",
        "          \n",
        "                 \n",
        "    return [temp[0]+half1,temp[1]+half2]\n",
        "    "
      ]
    },
    {
      "cell_type": "markdown",
      "metadata": {
        "id": "8XKfSx5IxwZs",
        "colab_type": "text"
      },
      "source": [
        "def recursive(a,b,row,column,A,string):\n",
        "\n",
        "    store = []\n",
        "    \n",
        "    if a == 0:\n",
        "         return [row[a],column[b]]\n",
        "    elif b == 0:\n",
        "         return [row[a],column[b]]\n",
        "    else:\n",
        "        var1 = A[a-1][b-1]\n",
        "        var2 = A[a][b-1]\n",
        "        var3 = A[a-1][b]\n",
        "        \n",
        "        maxvar = max(var1,var2,var3)\n",
        "        \n",
        "        if max == var1:\n",
        "            string = \"1\"\n",
        "            store = recursive(a-1,b-1,row,column,A,string)\n",
        "        elif max == var2:\n",
        "            string = \"2\"\n",
        "            store = recursive(a,b-1,row,column,A,string)\n",
        "        elif max == var3:\n",
        "            string = \"3\"\n",
        "            store = recursive(a-1,b,row,column,A,string)\n",
        "            \n",
        "        return store, string"
      ]
    },
    {
      "cell_type": "markdown",
      "metadata": {
        "id": "xGbMbge_xwZt",
        "colab_type": "text"
      },
      "source": [
        "def printout(best, optloc, A, string):\n",
        "    \n",
        "    f = open(\"output.txt\",\"w+\")\n",
        "    temp = []\n",
        "    newstr = \"\"\n",
        "    \n",
        "    temp, newstr = recursive(optloc[0], optloc[1], row, column, A, string)\n",
        "    listmp = mylist(newstr, optloc[0], optloc[1], row, column, temp)\n",
        "    \n",
        "    tmp1 = \"\"\n",
        "    for x in range(0,len(listmp[0])):\n",
        "        tmp2 = \" \"\n",
        "        if listmp[0][x] == listmp[1][x]:\n",
        "            tmp2 = \"|\"\n",
        "        tmp1 = tmp1 + tmp2\n",
        "        \n",
        "    s = (\"{}\\n{}\\n{}\".format(listmp[0],tmp1,listmp[1]))  \n",
        "    f.write(row)\n",
        "    f.write(column + \"\\n\")\n",
        "    f.write(s)\n",
        "    sr = \"Score={} for Match={}, mismatch={} ,gap={}\".format(best,match,mismatch,gap)\n",
        "    f.write(sr)\n",
        "    f.close()"
      ]
    },
    {
      "cell_type": "code",
      "metadata": {
        "id": "owILpbK9xwZt",
        "colab_type": "code",
        "colab": {}
      },
      "source": [
        "def localalignment(x, y, score=ScoreParameters(gap, match, mismatch)):\n",
        "    \n",
        "    A = creatematrix(len(x) + 1, len(y) + 1)\n",
        "    \n",
        "    best = 0\n",
        "    optloc = (0,0)\n",
        "    \n",
        "    for i in range(1, len(x)+1):\n",
        "        for j in range(1, len(y)+1):\n",
        "            \n",
        "            num = 0\n",
        "            if x[i-1]==y[j-1]:\n",
        "                num = A[i-1][j-1] + match\n",
        "            else:\n",
        "                num = A[i-1][j-1] + mismatch\n",
        "            \n",
        "            A[i][j] = max(\n",
        "               A[i][j-1] + score.gap,\n",
        "               A[i-1][j] + score.gap,\n",
        "               num,\n",
        "               0\n",
        "            )\n",
        "        \n",
        "            if A[i][j] >= best:\n",
        "                best = A[i][j]\n",
        "                optloc = (i,j)\n",
        "    \n",
        "    return best, optloc, A"
      ],
      "execution_count": 0,
      "outputs": []
    },
    {
      "cell_type": "code",
      "metadata": {
        "id": "2Ow6cCTUxwZw",
        "colab_type": "code",
        "colab": {}
      },
      "source": [
        "score = ScoreParameters(gap, match, mismatch)\n",
        "best, optloc, A = localalignment(row, column, score)\n",
        "f = open(\"output.txt\",\"w+\")\n",
        "f.write(row)\n",
        "f.write(column + \"\\n\")\n",
        "s = \"Score={} for Match={}, mismatch={} ,gap={}\".format(best,match,mismatch,gap)\n",
        "f.write(s)\n",
        "f.close()\n",
        "\n",
        "#string = \"1\"\n",
        "#printout(best, optloc, A, string)"
      ],
      "execution_count": 0,
      "outputs": []
    },
    {
      "cell_type": "code",
      "metadata": {
        "id": "BCmcES-MxwZz",
        "colab_type": "code",
        "colab": {}
      },
      "source": [
        ""
      ],
      "execution_count": 0,
      "outputs": []
    }
  ]
}